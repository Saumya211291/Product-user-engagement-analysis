{
  "cells": [
    {
      "cell_type": "markdown",
      "metadata": {
        "id": "6rxaajEnMDsM"
      },
      "source": [
        "\n",
        "## Begin by loading up the data and previewing it"
      ]
    },
    {
      "cell_type": "code",
      "execution_count": 1,
      "metadata": {
        "id": "cBzYaaNwMDsQ"
      },
      "outputs": [],
      "source": [
        "import pandas as pd\n",
        "import numpy as np\n",
        "\n",
        "users = pd.read_csv('/content/takehome_users.csv', encoding='latin-1',parse_dates=True)\n",
        "engage = pd.read_csv('/content/takehome_user_engagement.csv', parse_dates=True)"
      ]
    },
    {
      "cell_type": "code",
      "execution_count": 2,
      "metadata": {
        "colab": {
          "base_uri": "https://localhost:8080/",
          "height": 357
        },
        "id": "4Z_v8zfaMDsS",
        "outputId": "21dc87e6-ab97-42ae-87f9-5a315b8ff00b"
      },
      "outputs": [
        {
          "output_type": "execute_result",
          "data": {
            "text/html": [
              "\n",
              "  <div id=\"df-d1951f5f-3721-4ee8-91cf-e1978144beff\">\n",
              "    <div class=\"colab-df-container\">\n",
              "      <div>\n",
              "<style scoped>\n",
              "    .dataframe tbody tr th:only-of-type {\n",
              "        vertical-align: middle;\n",
              "    }\n",
              "\n",
              "    .dataframe tbody tr th {\n",
              "        vertical-align: top;\n",
              "    }\n",
              "\n",
              "    .dataframe thead th {\n",
              "        text-align: right;\n",
              "    }\n",
              "</style>\n",
              "<table border=\"1\" class=\"dataframe\">\n",
              "  <thead>\n",
              "    <tr style=\"text-align: right;\">\n",
              "      <th></th>\n",
              "      <th>object_id</th>\n",
              "      <th>creation_time</th>\n",
              "      <th>name</th>\n",
              "      <th>email</th>\n",
              "      <th>creation_source</th>\n",
              "      <th>last_session_creation_time</th>\n",
              "      <th>opted_in_to_mailing_list</th>\n",
              "      <th>enabled_for_marketing_drip</th>\n",
              "      <th>org_id</th>\n",
              "      <th>invited_by_user_id</th>\n",
              "    </tr>\n",
              "  </thead>\n",
              "  <tbody>\n",
              "    <tr>\n",
              "      <th>0</th>\n",
              "      <td>1</td>\n",
              "      <td>2014-04-22 03:53:30</td>\n",
              "      <td>Clausen August</td>\n",
              "      <td>AugustCClausen@yahoo.com</td>\n",
              "      <td>GUEST_INVITE</td>\n",
              "      <td>1.398139e+09</td>\n",
              "      <td>1</td>\n",
              "      <td>0</td>\n",
              "      <td>11</td>\n",
              "      <td>10803.0</td>\n",
              "    </tr>\n",
              "    <tr>\n",
              "      <th>1</th>\n",
              "      <td>2</td>\n",
              "      <td>2013-11-15 03:45:04</td>\n",
              "      <td>Poole Matthew</td>\n",
              "      <td>MatthewPoole@gustr.com</td>\n",
              "      <td>ORG_INVITE</td>\n",
              "      <td>1.396238e+09</td>\n",
              "      <td>0</td>\n",
              "      <td>0</td>\n",
              "      <td>1</td>\n",
              "      <td>316.0</td>\n",
              "    </tr>\n",
              "    <tr>\n",
              "      <th>2</th>\n",
              "      <td>3</td>\n",
              "      <td>2013-03-19 23:14:52</td>\n",
              "      <td>Bottrill Mitchell</td>\n",
              "      <td>MitchellBottrill@gustr.com</td>\n",
              "      <td>ORG_INVITE</td>\n",
              "      <td>1.363735e+09</td>\n",
              "      <td>0</td>\n",
              "      <td>0</td>\n",
              "      <td>94</td>\n",
              "      <td>1525.0</td>\n",
              "    </tr>\n",
              "    <tr>\n",
              "      <th>3</th>\n",
              "      <td>4</td>\n",
              "      <td>2013-05-21 08:09:28</td>\n",
              "      <td>Clausen Nicklas</td>\n",
              "      <td>NicklasSClausen@yahoo.com</td>\n",
              "      <td>GUEST_INVITE</td>\n",
              "      <td>1.369210e+09</td>\n",
              "      <td>0</td>\n",
              "      <td>0</td>\n",
              "      <td>1</td>\n",
              "      <td>5151.0</td>\n",
              "    </tr>\n",
              "    <tr>\n",
              "      <th>4</th>\n",
              "      <td>5</td>\n",
              "      <td>2013-01-17 10:14:20</td>\n",
              "      <td>Raw Grace</td>\n",
              "      <td>GraceRaw@yahoo.com</td>\n",
              "      <td>GUEST_INVITE</td>\n",
              "      <td>1.358850e+09</td>\n",
              "      <td>0</td>\n",
              "      <td>0</td>\n",
              "      <td>193</td>\n",
              "      <td>5240.0</td>\n",
              "    </tr>\n",
              "  </tbody>\n",
              "</table>\n",
              "</div>\n",
              "      <button class=\"colab-df-convert\" onclick=\"convertToInteractive('df-d1951f5f-3721-4ee8-91cf-e1978144beff')\"\n",
              "              title=\"Convert this dataframe to an interactive table.\"\n",
              "              style=\"display:none;\">\n",
              "        \n",
              "  <svg xmlns=\"http://www.w3.org/2000/svg\" height=\"24px\"viewBox=\"0 0 24 24\"\n",
              "       width=\"24px\">\n",
              "    <path d=\"M0 0h24v24H0V0z\" fill=\"none\"/>\n",
              "    <path d=\"M18.56 5.44l.94 2.06.94-2.06 2.06-.94-2.06-.94-.94-2.06-.94 2.06-2.06.94zm-11 1L8.5 8.5l.94-2.06 2.06-.94-2.06-.94L8.5 2.5l-.94 2.06-2.06.94zm10 10l.94 2.06.94-2.06 2.06-.94-2.06-.94-.94-2.06-.94 2.06-2.06.94z\"/><path d=\"M17.41 7.96l-1.37-1.37c-.4-.4-.92-.59-1.43-.59-.52 0-1.04.2-1.43.59L10.3 9.45l-7.72 7.72c-.78.78-.78 2.05 0 2.83L4 21.41c.39.39.9.59 1.41.59.51 0 1.02-.2 1.41-.59l7.78-7.78 2.81-2.81c.8-.78.8-2.07 0-2.86zM5.41 20L4 18.59l7.72-7.72 1.47 1.35L5.41 20z\"/>\n",
              "  </svg>\n",
              "      </button>\n",
              "      \n",
              "  <style>\n",
              "    .colab-df-container {\n",
              "      display:flex;\n",
              "      flex-wrap:wrap;\n",
              "      gap: 12px;\n",
              "    }\n",
              "\n",
              "    .colab-df-convert {\n",
              "      background-color: #E8F0FE;\n",
              "      border: none;\n",
              "      border-radius: 50%;\n",
              "      cursor: pointer;\n",
              "      display: none;\n",
              "      fill: #1967D2;\n",
              "      height: 32px;\n",
              "      padding: 0 0 0 0;\n",
              "      width: 32px;\n",
              "    }\n",
              "\n",
              "    .colab-df-convert:hover {\n",
              "      background-color: #E2EBFA;\n",
              "      box-shadow: 0px 1px 2px rgba(60, 64, 67, 0.3), 0px 1px 3px 1px rgba(60, 64, 67, 0.15);\n",
              "      fill: #174EA6;\n",
              "    }\n",
              "\n",
              "    [theme=dark] .colab-df-convert {\n",
              "      background-color: #3B4455;\n",
              "      fill: #D2E3FC;\n",
              "    }\n",
              "\n",
              "    [theme=dark] .colab-df-convert:hover {\n",
              "      background-color: #434B5C;\n",
              "      box-shadow: 0px 1px 3px 1px rgba(0, 0, 0, 0.15);\n",
              "      filter: drop-shadow(0px 1px 2px rgba(0, 0, 0, 0.3));\n",
              "      fill: #FFFFFF;\n",
              "    }\n",
              "  </style>\n",
              "\n",
              "      <script>\n",
              "        const buttonEl =\n",
              "          document.querySelector('#df-d1951f5f-3721-4ee8-91cf-e1978144beff button.colab-df-convert');\n",
              "        buttonEl.style.display =\n",
              "          google.colab.kernel.accessAllowed ? 'block' : 'none';\n",
              "\n",
              "        async function convertToInteractive(key) {\n",
              "          const element = document.querySelector('#df-d1951f5f-3721-4ee8-91cf-e1978144beff');\n",
              "          const dataTable =\n",
              "            await google.colab.kernel.invokeFunction('convertToInteractive',\n",
              "                                                     [key], {});\n",
              "          if (!dataTable) return;\n",
              "\n",
              "          const docLinkHtml = 'Like what you see? Visit the ' +\n",
              "            '<a target=\"_blank\" href=https://colab.research.google.com/notebooks/data_table.ipynb>data table notebook</a>'\n",
              "            + ' to learn more about interactive tables.';\n",
              "          element.innerHTML = '';\n",
              "          dataTable['output_type'] = 'display_data';\n",
              "          await google.colab.output.renderOutput(dataTable, element);\n",
              "          const docLink = document.createElement('div');\n",
              "          docLink.innerHTML = docLinkHtml;\n",
              "          element.appendChild(docLink);\n",
              "        }\n",
              "      </script>\n",
              "    </div>\n",
              "  </div>\n",
              "  "
            ],
            "text/plain": [
              "   object_id        creation_time  ... org_id invited_by_user_id\n",
              "0          1  2014-04-22 03:53:30  ...     11            10803.0\n",
              "1          2  2013-11-15 03:45:04  ...      1              316.0\n",
              "2          3  2013-03-19 23:14:52  ...     94             1525.0\n",
              "3          4  2013-05-21 08:09:28  ...      1             5151.0\n",
              "4          5  2013-01-17 10:14:20  ...    193             5240.0\n",
              "\n",
              "[5 rows x 10 columns]"
            ]
          },
          "metadata": {},
          "execution_count": 2
        }
      ],
      "source": [
        "users.head()"
      ]
    },
    {
      "cell_type": "code",
      "execution_count": 3,
      "metadata": {
        "colab": {
          "base_uri": "https://localhost:8080/",
          "height": 206
        },
        "id": "cBV-9l5lMDsT",
        "outputId": "3a55069f-daf7-4953-b0cc-2c20f2469b1a"
      },
      "outputs": [
        {
          "output_type": "execute_result",
          "data": {
            "text/html": [
              "\n",
              "  <div id=\"df-ebbe443f-5a35-47b7-a180-df6b40ae3dd4\">\n",
              "    <div class=\"colab-df-container\">\n",
              "      <div>\n",
              "<style scoped>\n",
              "    .dataframe tbody tr th:only-of-type {\n",
              "        vertical-align: middle;\n",
              "    }\n",
              "\n",
              "    .dataframe tbody tr th {\n",
              "        vertical-align: top;\n",
              "    }\n",
              "\n",
              "    .dataframe thead th {\n",
              "        text-align: right;\n",
              "    }\n",
              "</style>\n",
              "<table border=\"1\" class=\"dataframe\">\n",
              "  <thead>\n",
              "    <tr style=\"text-align: right;\">\n",
              "      <th></th>\n",
              "      <th>time_stamp</th>\n",
              "      <th>user_id</th>\n",
              "      <th>visited</th>\n",
              "    </tr>\n",
              "  </thead>\n",
              "  <tbody>\n",
              "    <tr>\n",
              "      <th>0</th>\n",
              "      <td>2014-04-22 03:53:30</td>\n",
              "      <td>1</td>\n",
              "      <td>1</td>\n",
              "    </tr>\n",
              "    <tr>\n",
              "      <th>1</th>\n",
              "      <td>2013-11-15 03:45:04</td>\n",
              "      <td>2</td>\n",
              "      <td>1</td>\n",
              "    </tr>\n",
              "    <tr>\n",
              "      <th>2</th>\n",
              "      <td>2013-11-29 03:45:04</td>\n",
              "      <td>2</td>\n",
              "      <td>1</td>\n",
              "    </tr>\n",
              "    <tr>\n",
              "      <th>3</th>\n",
              "      <td>2013-12-09 03:45:04</td>\n",
              "      <td>2</td>\n",
              "      <td>1</td>\n",
              "    </tr>\n",
              "    <tr>\n",
              "      <th>4</th>\n",
              "      <td>2013-12-25 03:45:04</td>\n",
              "      <td>2</td>\n",
              "      <td>1</td>\n",
              "    </tr>\n",
              "  </tbody>\n",
              "</table>\n",
              "</div>\n",
              "      <button class=\"colab-df-convert\" onclick=\"convertToInteractive('df-ebbe443f-5a35-47b7-a180-df6b40ae3dd4')\"\n",
              "              title=\"Convert this dataframe to an interactive table.\"\n",
              "              style=\"display:none;\">\n",
              "        \n",
              "  <svg xmlns=\"http://www.w3.org/2000/svg\" height=\"24px\"viewBox=\"0 0 24 24\"\n",
              "       width=\"24px\">\n",
              "    <path d=\"M0 0h24v24H0V0z\" fill=\"none\"/>\n",
              "    <path d=\"M18.56 5.44l.94 2.06.94-2.06 2.06-.94-2.06-.94-.94-2.06-.94 2.06-2.06.94zm-11 1L8.5 8.5l.94-2.06 2.06-.94-2.06-.94L8.5 2.5l-.94 2.06-2.06.94zm10 10l.94 2.06.94-2.06 2.06-.94-2.06-.94-.94-2.06-.94 2.06-2.06.94z\"/><path d=\"M17.41 7.96l-1.37-1.37c-.4-.4-.92-.59-1.43-.59-.52 0-1.04.2-1.43.59L10.3 9.45l-7.72 7.72c-.78.78-.78 2.05 0 2.83L4 21.41c.39.39.9.59 1.41.59.51 0 1.02-.2 1.41-.59l7.78-7.78 2.81-2.81c.8-.78.8-2.07 0-2.86zM5.41 20L4 18.59l7.72-7.72 1.47 1.35L5.41 20z\"/>\n",
              "  </svg>\n",
              "      </button>\n",
              "      \n",
              "  <style>\n",
              "    .colab-df-container {\n",
              "      display:flex;\n",
              "      flex-wrap:wrap;\n",
              "      gap: 12px;\n",
              "    }\n",
              "\n",
              "    .colab-df-convert {\n",
              "      background-color: #E8F0FE;\n",
              "      border: none;\n",
              "      border-radius: 50%;\n",
              "      cursor: pointer;\n",
              "      display: none;\n",
              "      fill: #1967D2;\n",
              "      height: 32px;\n",
              "      padding: 0 0 0 0;\n",
              "      width: 32px;\n",
              "    }\n",
              "\n",
              "    .colab-df-convert:hover {\n",
              "      background-color: #E2EBFA;\n",
              "      box-shadow: 0px 1px 2px rgba(60, 64, 67, 0.3), 0px 1px 3px 1px rgba(60, 64, 67, 0.15);\n",
              "      fill: #174EA6;\n",
              "    }\n",
              "\n",
              "    [theme=dark] .colab-df-convert {\n",
              "      background-color: #3B4455;\n",
              "      fill: #D2E3FC;\n",
              "    }\n",
              "\n",
              "    [theme=dark] .colab-df-convert:hover {\n",
              "      background-color: #434B5C;\n",
              "      box-shadow: 0px 1px 3px 1px rgba(0, 0, 0, 0.15);\n",
              "      filter: drop-shadow(0px 1px 2px rgba(0, 0, 0, 0.3));\n",
              "      fill: #FFFFFF;\n",
              "    }\n",
              "  </style>\n",
              "\n",
              "      <script>\n",
              "        const buttonEl =\n",
              "          document.querySelector('#df-ebbe443f-5a35-47b7-a180-df6b40ae3dd4 button.colab-df-convert');\n",
              "        buttonEl.style.display =\n",
              "          google.colab.kernel.accessAllowed ? 'block' : 'none';\n",
              "\n",
              "        async function convertToInteractive(key) {\n",
              "          const element = document.querySelector('#df-ebbe443f-5a35-47b7-a180-df6b40ae3dd4');\n",
              "          const dataTable =\n",
              "            await google.colab.kernel.invokeFunction('convertToInteractive',\n",
              "                                                     [key], {});\n",
              "          if (!dataTable) return;\n",
              "\n",
              "          const docLinkHtml = 'Like what you see? Visit the ' +\n",
              "            '<a target=\"_blank\" href=https://colab.research.google.com/notebooks/data_table.ipynb>data table notebook</a>'\n",
              "            + ' to learn more about interactive tables.';\n",
              "          element.innerHTML = '';\n",
              "          dataTable['output_type'] = 'display_data';\n",
              "          await google.colab.output.renderOutput(dataTable, element);\n",
              "          const docLink = document.createElement('div');\n",
              "          docLink.innerHTML = docLinkHtml;\n",
              "          element.appendChild(docLink);\n",
              "        }\n",
              "      </script>\n",
              "    </div>\n",
              "  </div>\n",
              "  "
            ],
            "text/plain": [
              "            time_stamp  user_id  visited\n",
              "0  2014-04-22 03:53:30        1        1\n",
              "1  2013-11-15 03:45:04        2        1\n",
              "2  2013-11-29 03:45:04        2        1\n",
              "3  2013-12-09 03:45:04        2        1\n",
              "4  2013-12-25 03:45:04        2        1"
            ]
          },
          "metadata": {},
          "execution_count": 3
        }
      ],
      "source": [
        "engage.head()"
      ]
    },
    {
      "cell_type": "markdown",
      "metadata": {
        "id": "2JsMb5YkMDsU"
      },
      "source": [
        "It looks like to label the users as active, the activity log must be sampled per user and their activity must be determined. \n",
        "### Label Users as adopted"
      ]
    },
    {
      "cell_type": "code",
      "execution_count": 4,
      "metadata": {
        "id": "57JIdwJEMDsV"
      },
      "outputs": [],
      "source": [
        "import datetime\n",
        "\n",
        "#set the time_stamp to datetime and the set it as the index\n",
        "engage.time_stamp = pd.to_datetime(engage.time_stamp)\n",
        "engage = engage.set_index('time_stamp', drop= True)"
      ]
    },
    {
      "cell_type": "code",
      "execution_count": 5,
      "metadata": {
        "id": "JYv7VlPDMDsV"
      },
      "outputs": [],
      "source": [
        "from datetime import timedelta\n",
        "\n",
        "def label_adopted(x):    \n",
        "    \"takes a users input and returns whether or not they have been active within any 7-day period\"\n",
        "    df_temp = engage.loc[engage['user_id'] == x] #select out rows of this user\n",
        "    df_temp = df_temp.resample('D').mean().dropna() #resample to show if active in a day. .mean() is just of 1\n",
        "    adopted = 0\n",
        "    for i in range(len(df_temp)-2): #loop over active days till the second to last day\n",
        "        if df_temp.index[i + 2] - df_temp.index[i] <= timedelta(days=7): # difference between every 1st and 3rd day\n",
        "            adopted = 1\n",
        "            break\n",
        "        else:\n",
        "            adopted = 0\n",
        "    return adopted"
      ]
    },
    {
      "cell_type": "code",
      "execution_count": 6,
      "metadata": {
        "id": "YdXMSH3AMDsW"
      },
      "outputs": [],
      "source": [
        "#apply to user df to label users as adopted=true \n",
        "users['adopted_user'] = users['object_id'].apply(label_adopted)"
      ]
    },
    {
      "cell_type": "code",
      "execution_count": 7,
      "metadata": {
        "colab": {
          "base_uri": "https://localhost:8080/"
        },
        "id": "ISOpxv7BMDsX",
        "outputId": "c63d6a71-d8d2-42b6-90d2-f78343ba7d22"
      },
      "outputs": [
        {
          "output_type": "stream",
          "name": "stdout",
          "text": [
            "1656\n",
            "0.138\n"
          ]
        }
      ],
      "source": [
        "print(sum(users['adopted_user']))\n",
        "print(sum(users.adopted_user)/len(users.adopted_user))"
      ]
    },
    {
      "cell_type": "markdown",
      "metadata": {
        "id": "156OLtIwMDsY"
      },
      "source": [
        "So it appears that there are only 1656 active users in the dataframe, about 14% of the total users. Keep this in mind later since it means that the classes will need to be balanced later for analysis.\n",
        "\n",
        "### Data Wrangling\n",
        "More data wrangling. Convert all time stamps to datetime objects."
      ]
    },
    {
      "cell_type": "code",
      "execution_count": 8,
      "metadata": {
        "scrolled": true,
        "id": "kVmZT9ftMDsY"
      },
      "outputs": [],
      "source": [
        "# set creation_time\n",
        "users.creation_time = pd.to_datetime(users.creation_time)\n",
        "#last_session_creation_time is a unix time stamp, so use map to convert to datetime\n",
        "users['last_session_creation_time'] = users['last_session_creation_time'].map(lambda data: \n",
        "                                    datetime.datetime.fromtimestamp(int(data)).strftime('%Y-%m-%d %H:%M:%S'),\n",
        "                                                                              na_action='ignore')"
      ]
    },
    {
      "cell_type": "markdown",
      "metadata": {
        "id": "oeLgphRYMDsZ"
      },
      "source": [
        "Subtract the` creation_time` from the `last_session_creation_time` to create a feature that combines the two in a meaningful way. This will give us feature `usage_length` that basically indicates how long a user has been active. "
      ]
    },
    {
      "cell_type": "code",
      "execution_count": 9,
      "metadata": {
        "id": "1leuk66BMDsZ"
      },
      "outputs": [],
      "source": [
        "#now set that to datetime\n",
        "users['last_session_creation_time'] = pd.to_datetime(users['last_session_creation_time'])\n",
        "#subtract to find time active\n",
        "users['usage_length'] = users['last_session_creation_time'] - users['creation_time']\n",
        "#lets settle for seconds instead of days to make the time differences more distinct\n",
        "users['usage_length'] = [x.total_seconds() for x in users['usage_length']]"
      ]
    },
    {
      "cell_type": "markdown",
      "metadata": {
        "id": "rFRQpgYLMDsa"
      },
      "source": [
        "Looking good so far, but we can also use email domain as a feature as well. There are only a few main ones, so I will label the less popular domains as other. "
      ]
    },
    {
      "cell_type": "code",
      "execution_count": 10,
      "metadata": {
        "id": "OeZcRbBMMDsa"
      },
      "outputs": [],
      "source": [
        "users['email_provider'] = [x.split('@')[1] for x in users.email]#select out the domain\n",
        "top_emails = users.email_provider.value_counts().index[:6]\n",
        "#label anything not in the top 5 as other\n",
        "users['email_provider'] = [x if x in top_emails else 'other' for x in users.email_provider]"
      ]
    },
    {
      "cell_type": "markdown",
      "metadata": {
        "id": "GusNXW1iMDsb"
      },
      "source": [
        "The same can be done with users, but first the emtpy values must be filled to be categorized."
      ]
    },
    {
      "cell_type": "code",
      "execution_count": 11,
      "metadata": {
        "id": "q0iN710tMDsb"
      },
      "outputs": [],
      "source": [
        "users.invited_by_user_id = users.invited_by_user_id.fillna(0)"
      ]
    },
    {
      "cell_type": "markdown",
      "metadata": {
        "id": "cA4MMswFMDsb"
      },
      "source": [
        "Very quickly, remove the columns containing features that won't be useful for analysis. This includes `object_id`\t`creation_time`\t`name`\t`email` and `last_session_creation_time`."
      ]
    },
    {
      "cell_type": "code",
      "execution_count": 12,
      "metadata": {
        "id": "asUt3JLiMDsb"
      },
      "outputs": [],
      "source": [
        "feature_df = users.iloc[:,4:]\n",
        "feature_df = feature_df.drop('last_session_creation_time', axis=1)\n",
        "feature_df['usage_length'] = feature_df['usage_length'].fillna(0)"
      ]
    },
    {
      "cell_type": "markdown",
      "metadata": {
        "id": "6Ydzf90VMDsc"
      },
      "source": [
        "Using `sklearn.preprocessing.LabelEncoder` we can easily engineer categorical labels for each categorical feature."
      ]
    },
    {
      "cell_type": "code",
      "execution_count": 13,
      "metadata": {
        "id": "-ww6mW7WMDsc"
      },
      "outputs": [],
      "source": [
        "from sklearn.preprocessing import LabelEncoder\n",
        "\n",
        "gle = LabelEncoder()\n",
        "creation_labels = gle.fit_transform(users['creation_source'])\n",
        "feature_df.creation_source = creation_labels\n",
        "\n",
        "org_id_labels = gle.fit_transform(users['org_id'])\n",
        "feature_df.org_id = org_id_labels\n",
        "\n",
        "invited_labels = gle.fit_transform(users['invited_by_user_id'])\n",
        "feature_df.org_id = invited_labels\n",
        "\n",
        "email_labels = gle.fit_transform(users['email_provider'])\n",
        "feature_df.email_provider = email_labels"
      ]
    },
    {
      "cell_type": "code",
      "execution_count": 14,
      "metadata": {
        "colab": {
          "base_uri": "https://localhost:8080/",
          "height": 206
        },
        "id": "bCxMHUHXMDsd",
        "outputId": "b4cc66fd-7903-4810-92a4-857246885e35"
      },
      "outputs": [
        {
          "output_type": "execute_result",
          "data": {
            "text/html": [
              "\n",
              "  <div id=\"df-64c42a32-8e09-4d85-a6d9-51b6ab58a35e\">\n",
              "    <div class=\"colab-df-container\">\n",
              "      <div>\n",
              "<style scoped>\n",
              "    .dataframe tbody tr th:only-of-type {\n",
              "        vertical-align: middle;\n",
              "    }\n",
              "\n",
              "    .dataframe tbody tr th {\n",
              "        vertical-align: top;\n",
              "    }\n",
              "\n",
              "    .dataframe thead th {\n",
              "        text-align: right;\n",
              "    }\n",
              "</style>\n",
              "<table border=\"1\" class=\"dataframe\">\n",
              "  <thead>\n",
              "    <tr style=\"text-align: right;\">\n",
              "      <th></th>\n",
              "      <th>creation_source</th>\n",
              "      <th>opted_in_to_mailing_list</th>\n",
              "      <th>enabled_for_marketing_drip</th>\n",
              "      <th>org_id</th>\n",
              "      <th>invited_by_user_id</th>\n",
              "      <th>adopted_user</th>\n",
              "      <th>usage_length</th>\n",
              "      <th>email_provider</th>\n",
              "    </tr>\n",
              "  </thead>\n",
              "  <tbody>\n",
              "    <tr>\n",
              "      <th>0</th>\n",
              "      <td>0</td>\n",
              "      <td>1</td>\n",
              "      <td>0</td>\n",
              "      <td>2325</td>\n",
              "      <td>10803.0</td>\n",
              "      <td>0</td>\n",
              "      <td>0.0</td>\n",
              "      <td>6</td>\n",
              "    </tr>\n",
              "    <tr>\n",
              "      <th>1</th>\n",
              "      <td>1</td>\n",
              "      <td>0</td>\n",
              "      <td>0</td>\n",
              "      <td>56</td>\n",
              "      <td>316.0</td>\n",
              "      <td>1</td>\n",
              "      <td>11750400.0</td>\n",
              "      <td>2</td>\n",
              "    </tr>\n",
              "    <tr>\n",
              "      <th>2</th>\n",
              "      <td>1</td>\n",
              "      <td>0</td>\n",
              "      <td>0</td>\n",
              "      <td>298</td>\n",
              "      <td>1525.0</td>\n",
              "      <td>0</td>\n",
              "      <td>0.0</td>\n",
              "      <td>2</td>\n",
              "    </tr>\n",
              "    <tr>\n",
              "      <th>3</th>\n",
              "      <td>0</td>\n",
              "      <td>0</td>\n",
              "      <td>0</td>\n",
              "      <td>1104</td>\n",
              "      <td>5151.0</td>\n",
              "      <td>0</td>\n",
              "      <td>86400.0</td>\n",
              "      <td>6</td>\n",
              "    </tr>\n",
              "    <tr>\n",
              "      <th>4</th>\n",
              "      <td>0</td>\n",
              "      <td>0</td>\n",
              "      <td>0</td>\n",
              "      <td>1127</td>\n",
              "      <td>5240.0</td>\n",
              "      <td>0</td>\n",
              "      <td>432000.0</td>\n",
              "      <td>6</td>\n",
              "    </tr>\n",
              "  </tbody>\n",
              "</table>\n",
              "</div>\n",
              "      <button class=\"colab-df-convert\" onclick=\"convertToInteractive('df-64c42a32-8e09-4d85-a6d9-51b6ab58a35e')\"\n",
              "              title=\"Convert this dataframe to an interactive table.\"\n",
              "              style=\"display:none;\">\n",
              "        \n",
              "  <svg xmlns=\"http://www.w3.org/2000/svg\" height=\"24px\"viewBox=\"0 0 24 24\"\n",
              "       width=\"24px\">\n",
              "    <path d=\"M0 0h24v24H0V0z\" fill=\"none\"/>\n",
              "    <path d=\"M18.56 5.44l.94 2.06.94-2.06 2.06-.94-2.06-.94-.94-2.06-.94 2.06-2.06.94zm-11 1L8.5 8.5l.94-2.06 2.06-.94-2.06-.94L8.5 2.5l-.94 2.06-2.06.94zm10 10l.94 2.06.94-2.06 2.06-.94-2.06-.94-.94-2.06-.94 2.06-2.06.94z\"/><path d=\"M17.41 7.96l-1.37-1.37c-.4-.4-.92-.59-1.43-.59-.52 0-1.04.2-1.43.59L10.3 9.45l-7.72 7.72c-.78.78-.78 2.05 0 2.83L4 21.41c.39.39.9.59 1.41.59.51 0 1.02-.2 1.41-.59l7.78-7.78 2.81-2.81c.8-.78.8-2.07 0-2.86zM5.41 20L4 18.59l7.72-7.72 1.47 1.35L5.41 20z\"/>\n",
              "  </svg>\n",
              "      </button>\n",
              "      \n",
              "  <style>\n",
              "    .colab-df-container {\n",
              "      display:flex;\n",
              "      flex-wrap:wrap;\n",
              "      gap: 12px;\n",
              "    }\n",
              "\n",
              "    .colab-df-convert {\n",
              "      background-color: #E8F0FE;\n",
              "      border: none;\n",
              "      border-radius: 50%;\n",
              "      cursor: pointer;\n",
              "      display: none;\n",
              "      fill: #1967D2;\n",
              "      height: 32px;\n",
              "      padding: 0 0 0 0;\n",
              "      width: 32px;\n",
              "    }\n",
              "\n",
              "    .colab-df-convert:hover {\n",
              "      background-color: #E2EBFA;\n",
              "      box-shadow: 0px 1px 2px rgba(60, 64, 67, 0.3), 0px 1px 3px 1px rgba(60, 64, 67, 0.15);\n",
              "      fill: #174EA6;\n",
              "    }\n",
              "\n",
              "    [theme=dark] .colab-df-convert {\n",
              "      background-color: #3B4455;\n",
              "      fill: #D2E3FC;\n",
              "    }\n",
              "\n",
              "    [theme=dark] .colab-df-convert:hover {\n",
              "      background-color: #434B5C;\n",
              "      box-shadow: 0px 1px 3px 1px rgba(0, 0, 0, 0.15);\n",
              "      filter: drop-shadow(0px 1px 2px rgba(0, 0, 0, 0.3));\n",
              "      fill: #FFFFFF;\n",
              "    }\n",
              "  </style>\n",
              "\n",
              "      <script>\n",
              "        const buttonEl =\n",
              "          document.querySelector('#df-64c42a32-8e09-4d85-a6d9-51b6ab58a35e button.colab-df-convert');\n",
              "        buttonEl.style.display =\n",
              "          google.colab.kernel.accessAllowed ? 'block' : 'none';\n",
              "\n",
              "        async function convertToInteractive(key) {\n",
              "          const element = document.querySelector('#df-64c42a32-8e09-4d85-a6d9-51b6ab58a35e');\n",
              "          const dataTable =\n",
              "            await google.colab.kernel.invokeFunction('convertToInteractive',\n",
              "                                                     [key], {});\n",
              "          if (!dataTable) return;\n",
              "\n",
              "          const docLinkHtml = 'Like what you see? Visit the ' +\n",
              "            '<a target=\"_blank\" href=https://colab.research.google.com/notebooks/data_table.ipynb>data table notebook</a>'\n",
              "            + ' to learn more about interactive tables.';\n",
              "          element.innerHTML = '';\n",
              "          dataTable['output_type'] = 'display_data';\n",
              "          await google.colab.output.renderOutput(dataTable, element);\n",
              "          const docLink = document.createElement('div');\n",
              "          docLink.innerHTML = docLinkHtml;\n",
              "          element.appendChild(docLink);\n",
              "        }\n",
              "      </script>\n",
              "    </div>\n",
              "  </div>\n",
              "  "
            ],
            "text/plain": [
              "   creation_source  opted_in_to_mailing_list  ...  usage_length  email_provider\n",
              "0                0                         1  ...           0.0               6\n",
              "1                1                         0  ...    11750400.0               2\n",
              "2                1                         0  ...           0.0               2\n",
              "3                0                         0  ...       86400.0               6\n",
              "4                0                         0  ...      432000.0               6\n",
              "\n",
              "[5 rows x 8 columns]"
            ]
          },
          "metadata": {},
          "execution_count": 14
        }
      ],
      "source": [
        "feature_df.head()"
      ]
    },
    {
      "cell_type": "markdown",
      "metadata": {
        "id": "KE30M-9mMDsd"
      },
      "source": [
        "This is the fully engineered feature set. Looks good so far.\n",
        "### Analysis\n",
        "Since we have a small feature set and sample size, `Kneighbors` and `RandomForestClassifier` are both good choices for this data set. However, we have a mix of categorical and numerical data so `RandomForestClassifier` will be easiest to implement."
      ]
    },
    {
      "cell_type": "code",
      "execution_count": 15,
      "metadata": {
        "id": "SGjesTLNMDsd"
      },
      "outputs": [],
      "source": [
        "from sklearn.model_selection import train_test_split\n",
        "\n",
        "#set up data by seperating out the labels, then split for cross validation\n",
        "data = feature_df.drop('adopted_user', axis=1)\n",
        "labels = feature_df.adopted_user\n",
        "\n",
        "X_train, y_train, X_test, y_test = train_test_split(data, labels, test_size=0.33, random_state=42)"
      ]
    },
    {
      "cell_type": "code",
      "execution_count": 16,
      "metadata": {
        "colab": {
          "base_uri": "https://localhost:8080/"
        },
        "id": "VRgYaofQMDse",
        "outputId": "7e527d0b-e647-4568-b177-079db5fe1f63"
      },
      "outputs": [
        {
          "output_type": "execute_result",
          "data": {
            "text/plain": [
              "0.9696969696969697"
            ]
          },
          "metadata": {},
          "execution_count": 16
        }
      ],
      "source": [
        "from sklearn.ensemble import RandomForestClassifier\n",
        "\n",
        "#train and test classifier\n",
        "rf = RandomForestClassifier(class_weight='balanced_subsample')\n",
        "\n",
        "rf.fit(X_train, X_test)\n",
        "\n",
        "rf.score(y_train, y_test)"
      ]
    },
    {
      "cell_type": "markdown",
      "metadata": {
        "id": "G1UMpP2pMDse"
      },
      "source": [
        "very promising results. As long as the classifier is intrepretable, it should reveal meaningful insight. Lets look at the metrics just to be sure."
      ]
    },
    {
      "cell_type": "code",
      "execution_count": 17,
      "metadata": {
        "colab": {
          "base_uri": "https://localhost:8080/"
        },
        "id": "1KgFvqH8MDse",
        "outputId": "dd56188a-73db-47d5-c493-e50db8375a97"
      },
      "outputs": [
        {
          "output_type": "stream",
          "name": "stdout",
          "text": [
            "              precision    recall  f1-score   support\n",
            "\n",
            "           0       0.98      0.99      0.98      3407\n",
            "           1       0.90      0.88      0.89       553\n",
            "\n",
            "    accuracy                           0.97      3960\n",
            "   macro avg       0.94      0.93      0.94      3960\n",
            "weighted avg       0.97      0.97      0.97      3960\n",
            "\n",
            "confusion matrix:\n",
            "[[3356   51]\n",
            " [  69  484]]\n"
          ]
        }
      ],
      "source": [
        "from sklearn.metrics import classification_report, confusion_matrix\n",
        "\n",
        "#print out classification report and confusion matrix\n",
        "y_pred = rf.predict(y_train)\n",
        "\n",
        "print(classification_report(y_test, y_pred))\n",
        "\n",
        "cm= confusion_matrix(y_test,y_pred)\n",
        "print('confusion matrix:')\n",
        "print(cm)"
      ]
    },
    {
      "cell_type": "markdown",
      "metadata": {
        "id": "VnAiRCEsMDsf"
      },
      "source": [
        "considering that `RandomForestClassifier` is better at intrinsically describing data over predictive power, these results are very impressive, especially with imbalanced class representation. What this indicates to me is that the classifier is not overfit, making whatever feature importance it has assigned much more valid.\n",
        "### Feature Importance\n",
        "Whatever coefficients the classifier has assigned to the features will indicate which ones it found more useful in making the correct  classifications. "
      ]
    },
    {
      "cell_type": "code",
      "execution_count": 18,
      "metadata": {
        "colab": {
          "base_uri": "https://localhost:8080/"
        },
        "id": "nDFRSictMDsf",
        "outputId": "f1be0a37-ec34-4498-97fe-38bd20361ede"
      },
      "outputs": [
        {
          "output_type": "execute_result",
          "data": {
            "text/plain": [
              "usage_length                  0.921828\n",
              "invited_by_user_id            0.022498\n",
              "org_id                        0.021699\n",
              "email_provider                0.015532\n",
              "creation_source               0.011119\n",
              "opted_in_to_mailing_list      0.003827\n",
              "enabled_for_marketing_drip    0.003498\n",
              "Name: coef, dtype: float64"
            ]
          },
          "metadata": {},
          "execution_count": 18
        }
      ],
      "source": [
        "#make a df that displays the cofficients indexed by feature name\n",
        "feature_importance = pd.DataFrame()\n",
        "feature_importance['coef'] = rf.feature_importances_\n",
        "feature_importance = feature_importance.set_index(data.columns)\n",
        "feature_importance.coef.nlargest(10)"
      ]
    },
    {
      "cell_type": "code",
      "execution_count": 19,
      "metadata": {
        "colab": {
          "base_uri": "https://localhost:8080/",
          "height": 465
        },
        "id": "S2SgTbu2MDsg",
        "outputId": "0f03640c-60d2-4499-9090-923c225fe056"
      },
      "outputs": [
        {
          "output_type": "display_data",
          "data": {
            "image/png": "[encoded data removed]",
            "text/plain": [
              "<Figure size 720x360 with 1 Axes>"
            ]
          },
          "metadata": {
            "needs_background": "light"
          }
        }
      ],
      "source": [
        "#plot the results\n",
        "import matplotlib.pyplot as plt\n",
        "plt.figure(figsize=(10,5))\n",
        "(feature_importance['coef']).nlargest(10).plot(kind='bar', x=feature_importance.index)\n",
        "plt.title('Random Forest Classifier Feature Importance')\n",
        "plt.ylabel('coefficient value')\n",
        "plt.show()"
      ]
    },
    {
      "cell_type": "markdown",
      "metadata": {
        "id": "qpJEhrFgMDsg"
      },
      "source": [
        "According to this analysis, `RandomForestClassifer` identified how long between when a user signed up and when their last active session to be the greatest indicator of whether or not they became an adopted user. Lets see what that means in a post hoc visualization"
      ]
    },
    {
      "cell_type": "code",
      "execution_count": 20,
      "metadata": {
        "id": "pP6MkR4BMDsg"
      },
      "outputs": [],
      "source": [
        "#define func to find ecdf of dataset\n",
        "def ecdf(data):\n",
        "    \"\"\"Compute ECDF for a one-dimensional array of measurements.\"\"\"\n",
        "    n = len(data)\n",
        "    x = np.sort(data)\n",
        "    y = np.arange(1, n+1) / n\n",
        "    return x, y"
      ]
    },
    {
      "cell_type": "code",
      "execution_count": 21,
      "metadata": {
        "id": "xy93ALQ4MDsh"
      },
      "outputs": [],
      "source": [
        "adopted = feature_df.usage_length.loc[feature_df['adopted_user'] == 1]\n",
        "not_adopted = feature_df.usage_length.loc[feature_df['adopted_user'] == 0]"
      ]
    },
    {
      "cell_type": "code",
      "execution_count": 22,
      "metadata": {
        "colab": {
          "base_uri": "https://localhost:8080/",
          "height": 350
        },
        "id": "-qqEnN6WMDsh",
        "outputId": "7a5a3db7-313f-4193-f6b9-0c82d9cd97e0"
      },
      "outputs": [
        {
          "output_type": "display_data",
          "data": {
            "image/png": "[encoded data removed]",
            "text/plain": [
              "<Figure size 720x360 with 1 Axes>"
            ]
          },
          "metadata": {
            "needs_background": "light"
          }
        }
      ],
      "source": [
        "#set fig size\n",
        "%matplotlib inline\n",
        "plt.figure(figsize=(10,5))\n",
        "\n",
        "x_active, y_active = ecdf(adopted)\n",
        "x_inactive, y_inactive = ecdf(not_adopted)\n",
        "\n",
        "plt.plot(x_active, y_active, marker='.', linestyle='none')\n",
        "plt.plot(x_inactive, y_inactive, marker='.', linestyle='none')\n",
        "plt.title('Length of Usage b/w Adopted and Not Adpoted Users')\n",
        "plt.xlabel('Length of Usage (Seconds)')\n",
        "plt.ylabel('ECDF')\n",
        "plt.legend(['adopted', 'not adopted'])\n",
        "plt.show()"
      ]
    },
    {
      "cell_type": "markdown",
      "metadata": {
        "id": "cNqhvdHNMDsi"
      },
      "source": [
        "Here it is apparent that at the maxium time usage of non-adopted users, approximately 60% of the active users have usage above that amount of time (approximately 230 days). "
      ]
    }
  ],
  "metadata": {
    "kernelspec": {
      "display_name": "Python 3.6",
      "language": "python",
      "name": "python36"
    },
    "language_info": {
      "codemirror_mode": {
        "name": "ipython",
        "version": 3
      },
      "file_extension": ".py",
      "mimetype": "text/x-python",
      "name": "python",
      "nbconvert_exporter": "python",
      "pygments_lexer": "ipython3",
      "version": "3.6.3"
    },
    "colab": {
      "name": "Task 5.ipynb",
      "provenance": [],
      "collapsed_sections": []
    }
  },
  "nbformat": 4,
  "nbformat_minor": 0
}